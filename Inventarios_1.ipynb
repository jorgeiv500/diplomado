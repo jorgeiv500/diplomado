{
 "cells": [
  {
   "cell_type": "markdown",
   "metadata": {
    "slideshow": {
     "slide_type": "slide"
    }
   },
   "source": [
    "\n",
    "<img src=\"https://github.com/jorgeiv500/diplomado/blob/master/caja.png?raw=true\" style=\"height: 15em; width:auto\" src=\"/images/juliaopt.svg\">\n",
    "\n",
    "\n",
    "# Gestion de Inventarios\n",
    "\n",
    "-----------------------\n",
    "Fuentes: Capitulo 6 Sipper\n",
    "Capitulo 18 Hillier Lieberman\n",
    "Capitulo 9 Ballou\n",
    "\n",
    "\n",
    "Jorge Ivan Romero G  \n",
    "https://sites.google.com/a/utadeo.edu.co/logistica20182/home "
   ]
  },
  {
   "cell_type": "markdown",
   "metadata": {
    "slideshow": {
     "slide_type": "slide"
    }
   },
   "source": [
    "# Concepto y proposito de los inventarios\n",
    "-----------------------\n",
    "\n",
    "<img src=\"https://github.com/jorgeiv500/diplomado/blob/master/amazon.gif?raw=true\" style=\"height: 15em; width:auto\" src=\"/images/juliaopt.svg\">\n",
    "\n",
    "\n",
    "-----------------------\n",
    "<div style=\"text-align: justify\"> Segun (Sipper 1998) el inventario es:\n",
    "Una cantidad de bienes bajo el control de una empresa, guardados durante algún tiempo para satisfacer una demanda futura. \n",
    "Para el sector de manufactura, tales bienes son principalmente materiales: materia prima, unidades compradas, productos semiterminados y terminados, refacciones y materiales de consumo. </div>"
   ]
  },
  {
   "cell_type": "markdown",
   "metadata": {
    "slideshow": {
     "slide_type": "slide"
    }
   },
   "source": [
    "## El papel que juega el inventario\n",
    "\n",
    "---------------------\n",
    "\n",
    "\n",
    "\n",
    "<div style=\"text-align: justify\">\n",
    "\n",
    "1. El inventario es un \"amortiguador\" entre dos procesos: el abastecimiento y la demanda. \n",
    "2. El proceso de abastecimiento contribuye con bienes al inventario, mientras que la demanda consume el mismo inventario. \n",
    "3. El inventario es necesario debido a las diferencias en las tasas y los tiempos entre el abastecimiento y la demanda, y esta diferencia se puede atribuir tanto a factores internos como externos. \n",
    "* Los factores endógenos son cuestiones de política, pero los exógenos son incontrolables. Entre \n",
    "* los factores internos están las economías de escala, el suavizamiento de la operación y el servicio al cliente. El factor exógeno más importante es la incertidumbre.\n",
    "</div>\n",
    "\n",
    "> El servicio a clientes es otra razón para mantener un inventario. El inventario se forma para poder cumplir de inmediato con la demanda, lo que lleva a la satisfacción del cliente.\n",
    "\n",
    "## Porque mantener inventario\n",
    "\n",
    "---------------------\n",
    "1. Economías de escala. Pedir o producir lotes grandes probablemente sea más barato que hacerlo en pequeños lotes.\n",
    "2. Incertidumbre. Las incertidumbres en la demanda, en el tiempo de demora y en el abastecimiento. Todas ellas nos obligan a conservar inventarios.\n",
    "3. Especulación. Los inventarios pueden acumularse anticipándonos a una elevación en su valor o costo.\n",
    "4. Transporte. Dirigir inventarios que están en tránsito de un lugar a otro.\n",
    "5. Suavizamiento. Los inventarios suavizan un patrón de demanda irregular.\n",
    "6. Logística. Restricciones del sistema que pueden requerir mantener inventarios.\n",
    "7. Costos de control. Mantener un inventario puede disminuir los costos que se necesitan para monitorear un sistema. (Por ejemplo, puede ser más barato hacer pedidos anuales y guardar las unidades, que realizar pedidos semanales y monitorear de cerca los pedidos y las entregas.)\n"
   ]
  },
  {
   "cell_type": "markdown",
   "metadata": {
    "heading_collapsed": true,
    "slideshow": {
     "slide_type": "slide"
    }
   },
   "source": [
    "## RFID y voice picking\n",
    "<img src=\"https://github.com/jorgeiv500/diplomado/blob/master/rfid.gif?raw=true\" style=\"height: 15em; width:auto\" src=\"/images/juliaopt.svg\">\n",
    "\n",
    "<img src=\"https://github.com/jorgeiv500/diplomado/blob/master/rfid2.gif?raw=true\" style=\"height: 15em; width:auto\" src=\"/images/juliaopt.svg\">\n",
    "\n",
    "\n",
    "<img src=\"https://github.com/jorgeiv500/diplomado/blob/master/voz.gif?raw=true\" style=\"height: 15em; width:auto\" src=\"/images/juliaopt.svg\">\n",
    "\n",
    "\n"
   ]
  },
  {
   "cell_type": "markdown",
   "metadata": {
    "slideshow": {
     "slide_type": "slide"
    }
   },
   "source": [
    "## Terminologia de inventarios\n",
    "-----------------------\n",
    "\n",
    "El ambiente de demanda se puede clasificar en dos grandes categorías: \n",
    "\n",
    "\n",
    "1. **Determinístico o estocástico**\n",
    "\n",
    "| Determinístico             | Estocástico       |\n",
    "|:---------------------------|:-----------------:|\n",
    "| Se conoce la demanda futura| Demanda aleatoria | \n",
    "    \n",
    "2. **Demanda independiente o dependiente**\n",
    "\n",
    "\n",
    "| Independiente              | Dependiente                                |\n",
    "|:---------------------------|:------------------------------------------:|\n",
    "| No depende de otro articulo| La demanda de una unidad se deriva de otra | \n",
    "    \n",
    "## Tipos de inventario\n",
    "-----------------------\n",
    "\n",
    "Los tipos de inventario en los sistemas de producción se clasifican según el valor agregado durante el proceso de manufactura. Las clasificaciones son materia prima, producto en proceso (PEP) y productos terminados. \n",
    "\n",
    "### La materia prima \n",
    "-----------------------\n",
    "Incluye todos los materiales requeridos para los procesos de manufactura y ensamble. Normalmente son los siguientes:\n",
    "• Material que necesita más procesamiento (harina, madera, barras de acero)\n",
    "• Componentes que forman parte de un producto tal como están (chips de computjadora, tornillos)\n",
    "• Artículos de consumo (soldadura, electrodos, pegamento, tornillos)\n",
    "\n",
    "### El producto en proceso (WIP) o (PEP) \n",
    "-----------------------\n",
    "(PEP) es inventario en el sistema de producción que espera para ser procesado o ensamblado y puede incluir productos semiterminados  o subensambles.\n",
    "\n",
    "### Los productos terminados \n",
    "-----------------------\n",
    "\n",
    "son las salidas de los procesos de producción, en ocasiones llamados artículos finales. La demanda de productos terminados por lo general es independiente. Los productos terminados de una organización de manufactura pueden ser materia prima para otra; por ejemplo, las llantas para los automóviles."
   ]
  },
  {
   "cell_type": "code",
   "execution_count": 2,
   "metadata": {
    "slideshow": {
     "slide_type": "fragment"
    }
   },
   "outputs": [
    {
     "data": {
      "text/html": [
       "<img src=\"tmp.gif?0.9527568676405522>\" />"
      ],
      "text/plain": [
       "Plots.AnimatedGif(\"/mnt/juliabox/tmp.gif\")"
      ]
     },
     "execution_count": 2,
     "metadata": {},
     "output_type": "execute_result"
    },
    {
     "name": "stderr",
     "output_type": "stream",
     "text": [
      "\u001b[1m\u001b[36mINFO: \u001b[39m\u001b[22m\u001b[36mSaved animation to /mnt/juliabox/tmp.gif\n",
      "\u001b[39m"
     ]
    }
   ],
   "source": [
    "using Plots, Iterators\n",
    "itr = repeatedly(()->rand(10), 20)\n",
    "animate(itr, ylims=(0,1), c=:red, fps=5)"
   ]
  },
  {
   "cell_type": "markdown",
   "metadata": {
    "slideshow": {
     "slide_type": "slide"
    }
   },
   "source": [
    "## Costo de inventarios\n",
    "--------------------------------\n",
    "\n",
    "Se define un inventario como una \"cantidad de un bien\"; como tal, incurre en costos. Los proncipales costos son:\n",
    "\n",
    "### Costo de compra\n",
    "--------------------------------\n",
    "\n",
    "* El costo de compra es el costo por artículo que se paga a un proveedor (llamado también costo de materiales). \n",
    "\n",
    "* Sea $c$ el costo unitario y $Q$ el número de unidades compradas (tamaño del lote). Entonces el costo total de compra es $cQ$,una función lineal de $Q$. En algunos casos el proveedor tiene una tabla de costos basada en la cantidad comprada. Este costo unitario es una función de $Q$ y el costo de compra es una función más compleja.\n",
    "\n",
    "* Si se fabrica una unidad, $c$ incluye tanto el costo del material como el costo variable para producirla. El costo total de manufactura para un lote de producción es \n",
    "\n",
    "\\begin{equation}\\label{eq2:}\n",
    "cQ\n",
    "\\end{equation}\n",
    "\n",
    "\n",
    "### Costo de ordenar (de preparacion)\n",
    "-----\n",
    "\n",
    "* El costo de preparar y controlar la orden es aquel en que se incurre cada vez que se coloca una orden con el proveedor. Es independiente del tamaño del lote que se compra y, por lo tanto, es un costo fijo denotado por A.\n",
    "\n",
    "* El costo total de comprar o producir un lote es\n",
    "\n",
    "\\begin{equation}\\label{eq:}\n",
    "A+cQ\n",
    "\\end{equation}\n",
    "\n",
    "\n",
    "consiste en una componente fija A y una componente variable cQ.\n",
    "\n",
    "### Costo de mantener inventarios o costo de almacenaje\n",
    "\n",
    "-----\n",
    "\n",
    "El inventario compromete el capital, usa espacio y requiere mantenimiento, y todo cuesta dinero. Esto se llama costo de almacenaje o de mantener el inventario e incluye lo siguiente:\n",
    "* Costo de oportunidad\n",
    "* Costos de almacenaje y manejo Impuestos y seguros\n",
    "* Robos, daños, caducidad, obsolescencia, etcétera.\n",
    "\n",
    "Los costos se calculan como un porcentaje de la inversión en inventario y se suman al costo de oportunidad, esto genera el costo total de mantener el inventario. Entonces, si el costo de capital es 25% anual y otros tipos de costo suman un 10% adicional, el costo total de almacenaje será 35%. Es decir, por cada dólar invertido en inventario, durante un año, se pagan 35 centavos. Se define:\n",
    "\n",
    "\n",
    "\\begin{equation}\\label{eq1:}\n",
    "h=ic\n",
    "\\end{equation}\n",
    "\n",
    "\n",
    "$i$ = costo total de mantener inventario (expresado como porcentaje)\n",
    "\n",
    "$h$ = s el costo de mantener una unidad en inventario durante una unidad de tiempo, expresado en dinero\n",
    "\n",
    "### Costo de faltantes\n",
    "-----\n",
    "\n",
    "Un faltante ocurre cuando existe una demanda de un producto que no se tiene. Un faltante puede surtirse atrasado o perderse; la demanda de bienes durables con frecuencia se satisface con atraso.Se define\n",
    "\n",
    "\\begin{equation}\\label{eq3:}\n",
    "n = \\text{costo de faltante por unidad o costo de faltante por unidad que falta por unidad de tiempo}\\\n",
    "\\end{equation}\n",
    "\n",
    "\n",
    "\n",
    "### Costo de operacion del sistema\n",
    "-----\n",
    "\n",
    "Este costo puede ser grande; incluye, por ejemplo, el costo de computadoras y programas para el control del inventario."
   ]
  },
  {
   "cell_type": "markdown",
   "metadata": {
    "slideshow": {
     "slide_type": "slide"
    }
   },
   "source": [
    "## Politicas de inventarios\n",
    "\n",
    "------\n",
    "El elemento principal que afecta el inventario es la demanda. Desde el punto de vista del control de la producción, se supone que la demanda es una variable incontrolable. Existen tres factores importantes en un sistema de inventario, llamados variables de decisión, que se pueden controlar:\n",
    "\n",
    " 1. ¿Qué debe ordenarse? (decisión de variedad) \n",
    " \n",
    " 2. ¿Cuándo debe ordenarse? (decisión de tiempo) \n",
    " \n",
    " 3. ¿Cuánto debe ordenarse? (decisión de cantidad)\n",
    " \n",
    " \n",
    " ### Política de revisión periódica. \n",
    " -----\n",
    "Se verifica el nivel del inventario , en intervalos de tiempo fijo, digamos una semana, un mes o cualquier tiempo $T$, llamado periodo de revisión, y se coloca una orden si $I_t$ es menor que cierto nivel predeterminado $R$, llamado punto de reorden (decisión de tiempo). \n",
    "\n",
    "El tamaño de la orden $Q$ es la cantidad requerida para aumentar el inventario a un nivel predeterminado S (decisión de cantidad). El tamaño de $Q$ varía de un periodo a otro. \n",
    "\n",
    " ### Política de revisión continua. \n",
    " -----\n",
    "\n",
    "En esta política el nivel del inventario se controla continuamente. Cuando el nivel llega al punto de reorden $R$ (decisión de tiempo), se ordena iina cantidad fija $Q$(decisión de cantidad). Ésta es una política continua $(Q, R)$,o política de cantidad fija de reorden. \n",
    "\n",
    "\n",
    "<img src=\"https://github.com/jorgeiv500/diplomado/blob/master/reorden.png?raw=true\">\n",
    "\n",
    "\n",
    "\n",
    "\n"
   ]
  },
  {
   "cell_type": "markdown",
   "metadata": {
    "slideshow": {
     "slide_type": "slide"
    }
   },
   "source": [
    "# Decisiones de cantidad\n",
    "\n",
    "Por lo general, los modelos para decisiones de cantidad se llaman modelos de tamaño de lote. Existen muchos de ellos, aquí se agruparon bajo dos grandes rubros:\n",
    "\n",
    " **Modelos estáticos de tamaño de lote** que se usan para demanda uniforme (constante) du rante el horizonte de planeación.\n",
    "- EOQ\n",
    "- EOQ con faltantes\n",
    "- EPQ\n",
    "- Descuentos por cantidad \n",
    "\n",
    "**Modelos dinámicos de tamaño de lote** que son modelos empleados para cambiar la de manda durante el horizonte de planeación. Se supone que la demanda es conocida con cer tidumbre, lo que en ocasiones se llama demanda irregular.\n",
    "\n",
    "- Reglas simples\n",
    "- Métodos heurísticos \n",
    "- Wagner-Whitin \n",
    "- Peterson-Silver "
   ]
  },
  {
   "cell_type": "markdown",
   "metadata": {
    "slideshow": {
     "slide_type": "slide"
    }
   },
   "source": [
    "## Modelos estaticos de tamaño de lote\n",
    "\n",
    "### EOQ cantidad economica de pedido\n",
    "\n",
    "Éste es el modelo fundamental de los modelos de inventarios; Harris los introdujo en 1915. También se conoce como la fórmula de Wilson, ya que fue él quien promovió su uso. La importancia de este modelo es que todavía es uno de los modelos de inventarios que más se usan en la industria, y sirve como base para modelos más elaborados.\n",
    "\n",
    "Se supone el siguiente ambiente para la toma de decisiones:\n",
    "\n",
    "1. Existe un solo artículo en el sistema de inventario.\n",
    "2. La demanda es uniforme y determinística y el monto es de $D$ unidades por unidad de tiempo día, semana, mes o año. \n",
    "3. Se usará la demanda anual, pero puede ser cualquier otra unidad, siempre y cuando el resto de los parámetros se calculen en la misma unidad de tiempo.\n",
    "4. No se permiten faltantes.\n",
    "5. No hay un tiempo de entrega (tiempo desde que se coloca la orden hasta que se recibe).\n",
    "6. Toda la cantidad ordenada llega al mismo tiempo; esto se llama tasa de reabastecimiento infinito.\n",
    "\n",
    "<img src=\"https://github.com/jorgeiv500/diplomado/blob/master/EOQ.png?raw=true\">\n",
    "-----\n",
    "Este modelo es adecuado para la compra de materia prima en producción o para el ambiente de ventas al menudeo. La variable de decisión para este modelo es $Q$, el número de unidades a ordenar, un número entero positivo. Los parámetros de costo se conocen con certidumbre y son los siguientes:\n",
    "\n",
    "\\begin{equation}\\label{eq6:}\n",
    "c = \\text{costo unitario (\\$/unidad)}\\\n",
    "\\end{equation}\n",
    "\n",
    "\\begin{equation}\\label{eq7:}\n",
    "i = \\text{costo total anual de mantener el inventario (% por año)}\\\n",
    "\\end{equation}\n",
    "\n",
    "\n",
    "\\begin{equation}\\label{eq8:}\n",
    "h = \\text{ic - costo total anual de mantener el inventario (\\$ por unidad por año)}\\\n",
    "\\end{equation}\n",
    "\n",
    "\\begin{equation}\\label{eq9:}\n",
    "A = \\text{costo de ordenar (\\$/orden)}\\\n",
    "\\end{equation}\n",
    "\n",
    "Además, se define\n",
    "\n",
    "> $D$ = demanda por unidad de tiempo\n",
    "\n",
    "> $T$ = longitud de ciclo, el tiempo que transcurre entre la colocación (o recepción)de órdenes sucesivas de abastecimiento \n",
    "\n",
    ">$K(Q)$ = costo total anual promedio como una función del tamaño de lote $Q$\n",
    "\n",
    "> $It$ = inventario disponible en el tiempo $t$ (cantidad real de material que hay enalmacén)\n",
    "\n",
    "El concepto básico de este modelo es crear un balance entre dos costos opuestos, los costos de ordenar y los costos de almacenar. El costo de ordenar es un costo fijo; si se ordena más, el costo por unidad será menor. El costo de almacenar es un costo variable que disminuye si el inventario que se tiene disminuye. Este balance se logra minimizando $K(Q)$ el costo total anual promedio.\n",
    "\n",
    "#### Formulacion del modelo EOQ\n",
    "\n",
    "\\begin{definition} \\label{def:eoq}\n",
    "Sea $Q^{*}$  la cantidad económica a ordenar o lote económico o EOQ.\n",
    "\\begin{equation}\n",
    "\\label{eq:eoq}\n",
    "Q^{*}=\\sqrt{\\frac{2AD}{h}}\n",
    "\\end{equation}\n",
    "\\end{definition}\n",
    "\n",
    "\\begin{definition} \\label{def:t}\n",
    "Sea $T^{*}$  el tiempo de ciclo correspondiente.\n",
    "\\begin{equation}\n",
    "\\label{eq:t}\n",
    "T^{*}=\\frac{Q^{*}}{D}=\\sqrt{\\frac{2A}{Dh}}\n",
    "\\end{equation}\n",
    "\\end{definition}\n",
    "\n",
    "\n",
    "\\begin{definition} \\label{def:K}\n",
    "Sea $K(Q)^{*}$  el costo anual promedio minimo.\n",
    "\\begin{equation}\n",
    "\\label{eq:K}\n",
    "K(Q)^{*}=cD+\\sqrt{2ADh}\n",
    "\\end{equation}\n",
    "\\end{definition}\n",
    "\n",
    "\\begin{definition}\\label{def:cao}\n",
    "\n",
    "El costo anual de ordenar (de preparación) es $\\frac{AD}{Q^{*}}$ y el costo anual de almacenar es $h\\frac{Q^{*}}{2}$ .\n",
    "\n",
    "\\end{definition}\n",
    "\n",
    "\n",
    "> **Ejemplo** Un pequeño taller de soldadura usa varillas para soldar a una tasa uniforme. Marvin, el dueño, compra las varillas a un proveedor local. Él estima que la demanda anual es de alrededor de 1000 libras. Para colocar una orden, tiene que gastar cerca de 3.60 dolares por la llamada telefónica y el papeleo. Marvin paga 2 dolares por libra de varilla y sus costos de almacenaje están basados en una tasa anual de 25%. Analice el sistema.\n",
    "\n",
    "**Solución**. Pimero se identifican los parámetros.\n",
    "\n",
    "A = $3.60 por orden \n",
    "\n",
    "D = 1000 libras por año \n",
    "\n",
    "c = $2 por libra \n",
    "\n",
    "i = 25% anual\n",
    "\n",
    "h = 0.25 * $2 = $0.5 por libra por año\n",
    "\n",
    "El tamaño del lote económico es\n",
    "\n"
   ]
  },
  {
   "cell_type": "code",
   "execution_count": 32,
   "metadata": {},
   "outputs": [
    {
     "name": "stdout",
     "output_type": "stream",
     "text": [
      "El tamaño de lote economico es=120.0\n",
      "El tiempo de ciclo  en años es=0.12\n",
      "El costo anual promedio minimo es=2060.0\n",
      "El costo anual de ordenar es=30.0\n",
      "El costo anual de almacenar es=30.0\n"
     ]
    }
   ],
   "source": [
    "A=3.60\n",
    "D=1000\n",
    "c=2\n",
    "i=0.25\n",
    "h=c*i\n",
    "#Calculamos el tamaño de lote economico\n",
    " Q=sqrt((2*A*D)/h)\n",
    "    println(\"El tamaño de lote economico es=\",Q)\n",
    "# Calculamos el tiempo de ciclo\n",
    "T=Q/D \n",
    "println(\"El tiempo de ciclo  en años es=\",T)\n",
    "\n",
    "# Calculamos el costo anual promedio minimo \n",
    "KQ=(c*D)+sqrt(2*A*D*h)\n",
    "    println(\"El costo anual promedio minimo es=\",KQ)\n",
    "\n",
    "# El costo anual de ordenar (de preparación) es\n",
    "CAO=(A*D)/Q\n",
    "println(\"El costo anual de ordenar es=\",CAO)\n",
    "\n",
    "# El costo anual de almacenar es\n",
    "CAA=h*(Q/2)\n",
    "println(\"El costo anual de almacenar es=\",CAA)"
   ]
  },
  {
   "cell_type": "markdown",
   "metadata": {
    "slideshow": {
     "slide_type": "slide"
    }
   },
   "source": [
    "### Modelo EOQ con faltantes planeados\n",
    "---\n",
    "Uno de los inconvenientes en la administración de cualquier sistema de inventarios es que ocurran faltantes (también llamados órdenes pendientes), que no es otra cosa que la demanda que no se satisface debido a que el inventario se ha agotado. Esta situación causa muchos dolores de cabeza, que incluyen tratar con clientes molestos y realizar el trabajo adicional de registros para cumplir esa demanda más tarde (se permiten faltantes) al reabastecer el inventario. Si se supone que no se permite planear que ocurran faltantes, el modelo básico EOQ que se presentó satisface el deseo común de los administradores para evitar los faltantes lo más posible.\n",
    "\n",
    "<img src=\"\n",
    "https://github.com/jorgeiv500/diplomado/blob/master/Captura%20de%20pantalla%202018-09-18%20a%20la(s)%2010.38.22%20a.%20m..png?raw=true\">\n",
    "\n",
    "\n",
    "\n",
    "\n",
    "\\begin{definition} \\label{def:s}\n",
    "Sea $S^{*}$  Nivel de inventario justo después de recibir un lote de Q unidades.\n",
    "\\begin{equation}\n",
    "\\label{eq:s}\n",
    "S^{*}=\\sqrt{\\frac{2DA}{h}}\\sqrt{\\frac{p}{p+h}}\n",
    "\\end{equation}\n",
    "\\end{definition}\n",
    "\n",
    "\n",
    "\\begin{definition} \\label{def:q}\n",
    "Sea $Q^{*}$  Lote de Q unidades.\n",
    "\\begin{equation}\n",
    "\\label{eq:q}\n",
    "Q^{*}=\\sqrt{\\frac{2DA}{h}}\\sqrt{\\frac{p+h}{p}}\n",
    "\\end{equation}\n",
    "\\end{definition}\n",
    "\n",
    "\n",
    "\\begin{definition} \\label{def:t2}\n",
    "Longitud optima del ciclo t*.\n",
    "\\begin{equation}\n",
    "\\label{eq:t2}\n",
    "t^{*}=\\frac{Q^{*}}{D}=\\sqrt{\\frac{2A}{Dh}}\\sqrt{\\frac{p+h}{p}}\n",
    "\\end{equation}\n",
    "\\end{definition}\n",
    "\n",
    "\\begin{definition} \\label{def:fa}\n",
    "El faltante maximo es.\n",
    "\\begin{equation}\n",
    "\\label{eq:fa}\n",
    "Q^{*}-S^{*}=\\sqrt{\\frac{2DA}{p}}\\sqrt{\\frac{h}{p+h}}\n",
    "\\end{equation}\n",
    "\\end{definition}\n",
    "\n",
    "\\begin{definition} \\label{def:kq}\n",
    "El costo minimo.\n",
    "\\begin{equation}\n",
    "\\label{eq:kq}\n",
    "K{Q,b}=\\frac{DA}{Q}+Dc+\\frac{hS^{2}}{2Q}+\\frac{p(Q-S)^{2}}{2Q}\n",
    "\\end{equation}\n",
    "\\end{definition}\n",
    "\n",
    "\n",
    "**Ejemplo** EOQ con faltantes. Jane, entre otros productos, vende solventes. La demanda es muy estable de 500 galones al año. El costo de colocar una orden es 50 dolares y por cada galón Jane paga 2 dolares. El costo de mantenerlo en inventario es 20% anual. Si la demanda excede el inventario, Jane estima que habrá dos tipos de costos asociados con la orden atrasada. La pérdida de la buena voluntad es de 0.2 dolares por unidad faltante y un costo de \"contabilidad\" de 0.2 dolares por unidad faltante por año. Analice este problema.\n",
    "\n",
    "A = $50\n",
    "\n",
    "D = 500 galones /año \n",
    "\n",
    "i = 20%\n",
    "\n",
    " c = 2 dolares /unidad —» h = ic = $0.4 unidades-año \n",
    " \n",
    " p= 0.2 por galón \n",
    " \n",
    " costo faltantes por ciclo =0.2 por galón por año\n",
    " "
   ]
  },
  {
   "cell_type": "code",
   "execution_count": 6,
   "metadata": {
    "slideshow": {
     "slide_type": "-"
    }
   },
   "outputs": [
    {
     "name": "stdout",
     "output_type": "stream",
     "text": [
      "El tamaño de lote economico es=500.00000000000006\n",
      "Nivel de inventario despues de recibir un pedido=250.00000000000003\n",
      "El costo minimo promedio por periodo es=6.251075000000003e6\n"
     ]
    }
   ],
   "source": [
    "A=50\n",
    "D=500\n",
    "i=0.2\n",
    "c=2\n",
    "p=0.4\n",
    "h=i*c\n",
    "Q=sqrt((2*A*D)/h)*sqrt((p+h)/p)\n",
    "println(\"El tamaño de lote economico es=\",Q)\n",
    "S=sqrt((2*A*D)/h)*sqrt(p/(p+h))\n",
    "    println(\"Nivel de inventario despues de recibir un pedido=\",S)\n",
    "qs=sqrt((2*A*D)/p)*sqrt(h/(p+h))\n",
    "kb=((D*A)/Q)+ (D*c) + ((h*(S^2))/(2*Q))+((p*(Q-S)^2)/2*Q)\n",
    "\n",
    "println(\"El costo minimo promedio por periodo es=\",kb)## Revisar***"
   ]
  }
 ],
 "metadata": {
  "celltoolbar": "Slideshow",
  "kernelspec": {
   "display_name": "Julia 0.6.2",
   "language": "julia",
   "name": "julia-0.6"
  },
  "language_info": {
   "file_extension": ".jl",
   "mimetype": "application/julia",
   "name": "julia",
   "version": "0.6.2"
  },
  "latex_envs": {
   "LaTeX_envs_menu_present": true,
   "autoclose": false,
   "autocomplete": true,
   "bibliofile": "biblio.bib",
   "cite_by": "apalike",
   "current_citInitial": 1,
   "eqLabelWithNumbers": true,
   "eqNumInitial": 1,
   "hotkeys": {
    "equation": "Ctrl-E",
    "itemize": "Ctrl-I"
   },
   "labels_anchors": true,
   "latex_user_defs": true,
   "report_style_numbering": true,
   "user_envs_cfg": true
  },
  "toc": {
   "colors": {
    "hover_highlight": "#DAA520",
    "running_highlight": "#FF0000",
    "selected_highlight": "#FFD700"
   },
   "moveMenuLeft": true,
   "nav_menu": {
    "height": "480.6666564941406px",
    "width": "252.6666717529297px"
   },
   "navigate_menu": true,
   "number_sections": true,
   "sideBar": true,
   "threshold": 4,
   "toc_cell": false,
   "toc_section_display": "block",
   "toc_window_display": false,
   "widenNotebook": false
  }
 },
 "nbformat": 4,
 "nbformat_minor": 2
}
