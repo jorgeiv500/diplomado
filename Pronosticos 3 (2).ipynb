{
 "cells": [
  {
   "cell_type": "markdown",
   "metadata": {},
   "source": [
    "# Pronosticos\n",
    "\n",
    "En el presente cuaderno realizaremos parctica de pronosticos manualmente y con el paquete indicators para manejo de altos volumenes.\n",
    "\n",
    "```julia\n",
    "using Indicators\n",
    "\n",
    "sma(conjunto de datos,n=en que periodo t se inicia ) #simple moving average es analogo a promedio movil simple\n",
    "em(conjunto de datos,n=en que periodo t se inicia,alpha=factor de peso para suavizacion) #exponential moving average  es analogo a suavizacion exponencial\n",
    "\n",
    "#por ejemplo\n",
    "sma(demanda,n=4)\n",
    "\n",
    "```"
   ]
  },
  {
   "cell_type": "markdown",
   "metadata": {},
   "source": [
    "## Promedio movil simple\n",
    "\n",
    "\n",
    "\n",
    "- $F(t)=\\frac{\\sum_{i=t-m+1}^{t}A(i)}{m}$\n",
    "\n",
    "\n",
    "\n",
    "- $f(t+\\tau)=F(t) $  ------   $    $   $  \\forall $  $\\tau = 1,2...T$\n",
    "---------------------------------\n",
    "\n",
    "\n",
    "## Conjunto de demandas para el ejemplo corto:\n",
    "\n",
    "| Mes     |1 | 2| 3| 4| 5| 6| 7| 8| 9|10|11|12|13|14|15|16|17|18|19|20|\n",
    "| ------- |--|--|--|--|--|--|--|--|--|--|--|--|--|--|--|--|--|--|--|--|\n",
    "| Demanda |10|12|12|11|15|14|18|22|18|28|33|31|31|37|40|33|50|45|55|60|\n",
    "\n",
    "## Realizado paso a paso con un for llenando el conjunto m=3\n",
    "\n",
    "```julia\n",
    "using DataFrames\n",
    "month=[1;2;3;4;5;6;7;8;9;10;11;12;13;14;15;16;17;18;19;20]\n",
    "demand=[10;12;12;11;15;14;18;22;18;28;33;31;31;37;40;33;50;45;55;60]\n",
    "# para m=3\n",
    "F3=Array{Float64,1}(20)\n",
    "for i=1:3\n",
    "F3[i]= NaN\n",
    "    end    \n",
    "for i=4:20\n",
    "F3[i]=mean(demand[i-3:i-1,1])\n",
    "end\n",
    "F3\n",
    "```\n",
    "\n",
    "**Replique sin copiar el codigo:**"
   ]
  },
  {
   "cell_type": "code",
   "execution_count": 41,
   "metadata": {},
   "outputs": [
    {
     "data": {
      "text/plain": [
       "20-element Array{Float64,1}:\n",
       " NaN     \n",
       " NaN     \n",
       " NaN     \n",
       "  11.3333\n",
       "  11.6667\n",
       "  12.6667\n",
       "  13.3333\n",
       "  15.6667\n",
       "  18.0   \n",
       "  19.3333\n",
       "  22.6667\n",
       "  26.3333\n",
       "  30.6667\n",
       "  31.6667\n",
       "  33.0   \n",
       "  36.0   \n",
       "  36.6667\n",
       "  41.0   \n",
       "  42.6667\n",
       "  50.0   "
      ]
     },
     "execution_count": 41,
     "metadata": {},
     "output_type": "execute_result"
    }
   ],
   "source": [
    "using DataFrames\n",
    "month=[1;2;3;4;5;6;7;8;9;10;11;12;13;14;15;16;17;18;19;20]\n",
    "demand=[10;12;12;11;15;14;18;22;18;28;33;31;31;37;40;33;50;45;55;60]\n",
    "# para m=3\n",
    "F3=Array{Float64,1}(20)\n",
    "for i=1:3\n",
    "F3[i]= NaN\n",
    "    end    \n",
    "for i=4:20\n",
    "F3[i]=mean(demand[i-3:i-1,1])\n",
    "end\n",
    "F3"
   ]
  },
  {
   "cell_type": "markdown",
   "metadata": {},
   "source": [
    "\n",
    "## Realizado paso a paso con un for llenando el conjunto m=5\n",
    "```julia\n",
    "using DataFrames\n",
    "# para m=5\n",
    "F5=Array{Float64,1}(20)\n",
    "for i=1:5\n",
    "F5[i]= NaN\n",
    "    end    \n",
    "for i=6:20\n",
    "F5[i]=mean(demand[i-5:i-1,1])\n",
    "end\n",
    "F5\n",
    "```\n",
    "\n",
    "**Replique sin copiar el codigo:**"
   ]
  },
  {
   "cell_type": "code",
   "execution_count": 40,
   "metadata": {},
   "outputs": [
    {
     "data": {
      "text/plain": [
       "20-element Array{Float64,1}:\n",
       " NaN  \n",
       " NaN  \n",
       " NaN  \n",
       " NaN  \n",
       " NaN  \n",
       "  12.0\n",
       "  12.8\n",
       "  14.0\n",
       "  16.0\n",
       "  17.4\n",
       "  20.0\n",
       "  23.8\n",
       "  26.4\n",
       "  28.2\n",
       "  32.0\n",
       "  34.4\n",
       "  34.4\n",
       "  38.2\n",
       "  41.0\n",
       "  44.6"
      ]
     },
     "execution_count": 40,
     "metadata": {},
     "output_type": "execute_result"
    }
   ],
   "source": [
    "using DataFrames\n",
    "# para m=5\n",
    "F5=Array{Float64,1}(20)\n",
    "for i=1:5\n",
    "F5[i]= NaN\n",
    "    end    \n",
    "for i=6:20\n",
    "F5[i]=mean(demand[i-5:i-1,1])\n",
    "end\n",
    "F5"
   ]
  },
  {
   "cell_type": "markdown",
   "metadata": {},
   "source": [
    "## Incluyendo ambos conjuntos en un DataFrame\n",
    "\n",
    "```julia\n",
    "\n",
    "a=DataFrame(Mes_t = month , Demanda_A_i=demand,Pronostico_m3=F3,Pronostico_m5=F5)\n",
    "print(a)\n",
    "\n",
    "```\n",
    "\n",
    "**Replique sin copiar el codigo:**"
   ]
  },
  {
   "cell_type": "code",
   "execution_count": 42,
   "metadata": {},
   "outputs": [
    {
     "name": "stdout",
     "output_type": "stream",
     "text": [
      "20×4 DataFrames.DataFrame\n",
      "│ Row │ Mes_t │ Demanda_A_i │ Pronostico_m3 │ Pronostico_m5 │\n",
      "├─────┼───────┼─────────────┼───────────────┼───────────────┤\n",
      "│ 1   │ 1     │ 10          │ NaN           │ NaN           │\n",
      "│ 2   │ 2     │ 12          │ NaN           │ NaN           │\n",
      "│ 3   │ 3     │ 12          │ NaN           │ NaN           │\n",
      "│ 4   │ 4     │ 11          │ 11.3333       │ NaN           │\n",
      "│ 5   │ 5     │ 15          │ 11.6667       │ NaN           │\n",
      "│ 6   │ 6     │ 14          │ 12.6667       │ 12.0          │\n",
      "│ 7   │ 7     │ 18          │ 13.3333       │ 12.8          │\n",
      "│ 8   │ 8     │ 22          │ 15.6667       │ 14.0          │\n",
      "⋮\n",
      "│ 12  │ 12    │ 31          │ 26.3333       │ 23.8          │\n",
      "│ 13  │ 13    │ 31          │ 30.6667       │ 26.4          │\n",
      "│ 14  │ 14    │ 37          │ 31.6667       │ 28.2          │\n",
      "│ 15  │ 15    │ 40          │ 33.0          │ 32.0          │\n",
      "│ 16  │ 16    │ 33          │ 36.0          │ 34.4          │\n",
      "│ 17  │ 17    │ 50          │ 36.6667       │ 34.4          │\n",
      "│ 18  │ 18    │ 45          │ 41.0          │ 38.2          │\n",
      "│ 19  │ 19    │ 55          │ 42.6667       │ 41.0          │\n",
      "│ 20  │ 20    │ 60          │ 50.0          │ 44.6          │"
     ]
    }
   ],
   "source": [
    "a=DataFrame(Mes_t = month , Demanda_A_i=demand,Pronostico_m3=F3,Pronostico_m5=F5)\n",
    "print(a)"
   ]
  },
  {
   "cell_type": "markdown",
   "metadata": {},
   "source": [
    "#  Ahora lo graficamos\n",
    "\n",
    "```julia\n",
    "using Plots,DataFrames\n",
    "\n",
    "plotly()  \n",
    "\n",
    "plot(a1[:Mes_t],a[:Demanda_A_i],label=\"A(t)\", line=(3),marker=4,xlabel=\"Mes\",ylabel=\"Demanda\")\n",
    "\n",
    "plot!(a1[:Mes_t],a[:Pronostico_m3],label=\"F(t):m3\", line=(:dash,4),marker=4,xlabel=\"Mes\",ylabel=\"Demanda\")\n",
    "\n",
    "plot!(a1[:Mes_t],a[:Pronostico_m5],label=\"F(t):m5\", line=(:dot,4),marker=4,xlabel=\"Mes\",ylabel=\"Demanda\")\n",
    "\n",
    "```\n",
    "\n",
    "**Replique sin copiar el codigo:**"
   ]
  },
  {
   "cell_type": "code",
   "execution_count": null,
   "metadata": {},
   "outputs": [],
   "source": []
  },
  {
   "cell_type": "markdown",
   "metadata": {},
   "source": [
    "## Ahora usando el paquete indicators\n",
    "\n",
    "```julia\n",
    "\n",
    "using Indicators\n",
    "month=[1;2;3;4;5;6;7;8;9;10;11;12;13;14;15;16;17;18;19;20]\n",
    "demand=[10.0;12;12;11;15;14;18;22;18;28;33;31;31;37;40;33;50;45;55;60]\n",
    "\n",
    "F3=sma(demand,n=3)\n",
    "F5=sma(demand,n=5)\n",
    "\n",
    "a1=DataFrame(Mes_t = month , Demanda_A_i=demand,Pronostico_m3=F3,Pronostico_m5=F5)\n",
    "print(a)\n",
    "\n",
    "\n",
    "using Plots,DataFrames\n",
    "\n",
    "plotly()  \n",
    "\n",
    "plot(a1[:Mes_t],a[:Demanda_A_i],label=\"A(t)\", line=(3),marker=4,xlabel=\"Mes\",ylabel=\"Demanda\")\n",
    "\n",
    "plot!(a1[:Mes_t],a[:Pronostico_m3],label=\"F(t):m3\", line=(:dash,4),marker=4,xlabel=\"Mes\",ylabel=\"Demanda\")\n",
    "\n",
    "plot!(a1[:Mes_t],a[:Pronostico_m5],label=\"F(t):m5\", line=(:dot,4),marker=4,xlabel=\"Mes\",ylabel=\"Demanda\")\n",
    "\n",
    "\n",
    "```\n",
    "\n",
    "**Replique sin copiar el codigo:**"
   ]
  },
  {
   "cell_type": "code",
   "execution_count": null,
   "metadata": {},
   "outputs": [],
   "source": []
  },
  {
   "cell_type": "markdown",
   "metadata": {},
   "source": [
    "# Suavizacion exponencial\n",
    "\n",
    "\n",
    "- $F(t)=\\alpha A(t)+(1-\\alpha)F(t-1)$\n",
    "\n",
    "\n",
    "- $f(t+\\tau)=F(t) $  ------   $    $   $  \\forall $  $\\tau = 1,2...T$\n",
    "\n",
    "-------------------\n",
    "\n",
    "# Primero vamos a aplicarlo construyendo la informacion con alpha=0.2\n",
    "\n",
    "```julia\n",
    "\n",
    "using DataFrames\n",
    "month=[1;2;3;4;5;6;7;8;9;10;11;12;13;14;15;16;17;18;19;20]\n",
    "demand=[10;12;12;11;15;14;18;22;18;28;33;31;31;37;40;33;50;45;55;60]\n",
    "# para alpha=0.2\n",
    "alpha1=0.2\n",
    "# creamos el conjunto\n",
    "A2=Array{Float64,1}(20)\n",
    "#primera vacia, segunda en demanda inicial para comenzar el modelo\n",
    "A2[1]= NaN\n",
    "A2[2]=10\n",
    "#llenamos el vector con la funcion     \n",
    "for i=3:20\n",
    "A2[i]=alpha1*(demand[i-1])+((1-alpha1)*A2[i-1])\n",
    "end\n",
    "\n",
    "#ploteamos en un DataFrame\n",
    "\n",
    "a1=DataFrame(Mes_t = month , Demanda_A_i=demand,pronostico_alpha02=A2)\n",
    "\n",
    "```\n",
    "\n",
    "**Replique sin copiar el codigo:**\n"
   ]
  },
  {
   "cell_type": "code",
   "execution_count": null,
   "metadata": {},
   "outputs": [],
   "source": []
  },
  {
   "cell_type": "markdown",
   "metadata": {},
   "source": [
    "\n",
    "# Ahora con alpha1=0.2 y alpha2=0.6\n",
    "\n",
    "```julia\n",
    "using Plots,DataFrames\n",
    "\n",
    "month=[1;2;3;4;5;6;7;8;9;10;11;12;13;14;15;16;17;18;19;20]\n",
    "demand=[10;12;12;11;15;14;18;22;18;28;33;31;31;37;40;33;50;45;55;60]\n",
    "# para m=3\n",
    "alpha1=0.2\n",
    "alpha2=0.6\n",
    "\n",
    "#promero alpha 0.2\n",
    "\n",
    "A2=Array{Float64,1}(20)\n",
    "\n",
    "A2[1]= NaN\n",
    "A2[2]=10\n",
    "     \n",
    "for i=3:20\n",
    "A2[i]=alpha1*(demand[i-1])+((1-alpha1)*A2[i-1])\n",
    "end\n",
    "\n",
    "A2\n",
    "\n",
    "#Ahora alpha 0.6\n",
    "\n",
    "A3=Array{Float64,1}(20)\n",
    "\n",
    "A3[1]= NaN\n",
    "A3[2]=10\n",
    "     \n",
    "for i=3:20\n",
    "A3[i]=alpha2*(demand[i-1])+((1-alpha2)*A3[i-1])\n",
    "end\n",
    "A3\n",
    "\n",
    "a1=DataFrame(Mes_t = month , Demanda_A_i=demand,Pronostico_alpha02=A2,Pronostico_alpha06=A3)\n",
    "\n",
    "plotly()  \n",
    "\n",
    "plot(a1[:Mes_t],a1[:Demanda_A_i],label=\"A(t)\", line=(3),marker=4,xlabel=\"Mes\",ylabel=\"Demanda\")\n",
    "\n",
    "plot!(a1[:Mes_t],a1[:Pronostico_alpha02],label=\"F(t):alpha02\", line=(:dash,4),marker=4,xlabel=\"Mes\",ylabel=\"Demanda\")\n",
    "\n",
    "plot!(a1[:Mes_t],a1[:Pronostico_alpha06],label=\"F(t):alpha06\", line=(:dot,4),marker=4,xlabel=\"Mes\",ylabel=\"Demanda\")\n",
    "\n",
    "\n",
    "```\n",
    "\n",
    "**Replique sin copiar el codigo:**\n"
   ]
  },
  {
   "cell_type": "code",
   "execution_count": null,
   "metadata": {},
   "outputs": [],
   "source": []
  },
  {
   "cell_type": "markdown",
   "metadata": {},
   "source": [
    "# Ahora usaremos Indicators con los dos alpha\n",
    "\n"
   ]
  },
  {
   "cell_type": "code",
   "execution_count": 8,
   "metadata": {},
   "outputs": [
    {
     "data": {
      "text/plain": [
       "24-element Array{Float64,1}:\n",
       " NaN      \n",
       "   3.0    \n",
       "   3.4    \n",
       "   4.32   \n",
       "   5.656  \n",
       "   7.1248 \n",
       "   9.29984\n",
       "  10.4399 \n",
       "  10.1519 \n",
       "   9.32152\n",
       "   8.45721\n",
       "   7.56577\n",
       "   7.05262\n",
       "   6.44209\n",
       "   6.55368\n",
       "   6.64294\n",
       "   8.31435\n",
       "  10.0515 \n",
       "  12.8412 \n",
       "  13.8729 \n",
       "  13.4984 \n",
       "  12.1987 \n",
       "  11.3589 \n",
       "  10.2872 "
      ]
     },
     "execution_count": 8,
     "metadata": {},
     "output_type": "execute_result"
    }
   ],
   "source": [
    "using Indicators\n",
    "month=[1;2;3;4;5;6;7;8;9;10;11;12;13;14;15;16;17;18;19;20]\n",
    "demand=[10;12;12;11;15;14;18;22;18;28;33;31;31;37;40;33;50;45;55;60]\n",
    "# para m=3\n",
    "alpha1=0.2\n",
    "alpha2=0.6\n",
    "\n",
    "ema(demanda,n=2,alpha=0.2)"
   ]
  },
  {
   "cell_type": "code",
   "execution_count": null,
   "metadata": {},
   "outputs": [],
   "source": []
  },
  {
   "cell_type": "markdown",
   "metadata": {},
   "source": [
    "# Ahora usaremos Tema (holt-winters) Indicators con alpha=0.1"
   ]
  },
  {
   "cell_type": "markdown",
   "metadata": {},
   "source": [
    "```julia\n",
    "using Indicators,DataFrames,Plots\n",
    "demand=[4.0;\t2;\t5;\t8;\t11;\t13\t;18\t;15;\t9;\t6;\t5;\t4;5.0;\t4;\t7;\t7\t;15;\t17;\t24;\t18;\t12;\t7\t;8;\t6]\n",
    "month=[1;2;3;4;5;6;7;8;9;10;11;12;13;14;15;16;17;18;19;20;21;22;23;24]\n",
    "demanda=[month; demand]\n",
    "a=tema(demand,n=1,alpha=0.1)\n",
    "a\n",
    "\n",
    "a1=DataFrame(Mes_t = month , Demanda_A_i=demand,Pronostico_winters=a)\n",
    "\n",
    "plotly()  \n",
    "\n",
    "plot(a1[:Mes_t],a1[:Demanda_A_i],label=\"A(t)\", line=(3),marker=4,xlabel=\"Mes\",ylabel=\"Demanda\")\n",
    "\n",
    "plot!(a1[:Mes_t],a1[:Pronostico_winters],label=\"F(t):winters\", line=(:dash,4),marker=4,xlabel=\"Mes\",ylabel=\"Demanda\")\n",
    "\n",
    "```\n",
    "\n",
    "**Replique sin copiar el codigo:**"
   ]
  },
  {
   "cell_type": "markdown",
   "metadata": {},
   "source": [
    "# Recordemos como leer datos directamente:"
   ]
  },
  {
   "cell_type": "code",
   "execution_count": 92,
   "metadata": {},
   "outputs": [
    {
     "name": "stderr",
     "output_type": "stream",
     "text": [
      "  % Total    % Received % Xferd  Average Speed   Time    Time     Time  Current\n",
      "                                 Dload  Upload   Total   Spent    Left  Speed\n",
      "100   565    0   565    0     0   2230      0 --:--:-- --:--:-- --:--:--  2233\n"
     ]
    },
    {
     "data": {
      "text/html": [
       "<table class=\"data-frame\"><thead><tr><th></th><th>variable</th><th>mean</th><th>min</th><th>median</th><th>max</th><th>nunique</th><th>nmissing</th><th>eltype</th></tr></thead><tbody><tr><th>1</th><td>semana</td><td>25.5</td><td>1.0</td><td>25.5</td><td>50.0</td><td></td><td></td><td>Float64</td></tr><tr><th>2</th><td>demanda</td><td>49.88</td><td>42.0</td><td>50.0</td><td>58.0</td><td></td><td></td><td>Float64</td></tr></tbody></table>"
      ],
      "text/plain": [
       "2×8 DataFrames.DataFrame\n",
       "│ Row │ variable │ mean  │ min  │ median │ max  │ nunique │ nmissing │ eltype  │\n",
       "├─────┼──────────┼───────┼──────┼────────┼──────┼─────────┼──────────┼─────────┤\n",
       "│ 1   │ semana   │ 25.5  │ 1.0  │ 25.5   │ 50.0 │         │          │ Float64 │\n",
       "│ 2   │ demanda  │ 49.88 │ 42.0 │ 50.0   │ 58.0 │         │          │ Float64 │"
      ]
     },
     "execution_count": 92,
     "metadata": {},
     "output_type": "execute_result"
    },
    {
     "name": "stderr",
     "output_type": "stream",
     "text": [
      "\r",
      "100   358    0   358    0     0    611      0 --:--:-- --:--:-- --:--:--   611\n"
     ]
    }
   ],
   "source": [
    "using DataFrames\n",
    "a = readdlm(download(\"https://sites.google.com/site/datasets20182/conjuntos/demandas.csv?attredirects=0&d=1\"),';',Float64,'\\n',header=true)\n",
    "nueva=a[1]\n",
    "mycsv=DataFrame(semana=nueva[:,1], demanda=nueva[:,2])\n",
    "head(mycsv,50)\n",
    "describe(mycsv)\n"
   ]
  },
  {
   "cell_type": "code",
   "execution_count": 94,
   "metadata": {},
   "outputs": [
    {
     "data": {
      "text/html": [
       "<table class=\"data-frame\"><thead><tr><th></th><th>semana</th><th>demanda</th></tr></thead><tbody><tr><th>1</th><td>1.0</td><td>56.0</td></tr><tr><th>2</th><td>2.0</td><td>46.0</td></tr><tr><th>3</th><td>3.0</td><td>53.0</td></tr><tr><th>4</th><td>4.0</td><td>50.0</td></tr><tr><th>5</th><td>5.0</td><td>50.0</td></tr><tr><th>6</th><td>6.0</td><td>52.0</td></tr><tr><th>7</th><td>7.0</td><td>46.0</td></tr><tr><th>8</th><td>8.0</td><td>53.0</td></tr><tr><th>9</th><td>9.0</td><td>55.0</td></tr><tr><th>10</th><td>10.0</td><td>46.0</td></tr><tr><th>11</th><td>11.0</td><td>53.0</td></tr><tr><th>12</th><td>12.0</td><td>45.0</td></tr><tr><th>13</th><td>13.0</td><td>50.0</td></tr><tr><th>14</th><td>14.0</td><td>49.0</td></tr><tr><th>15</th><td>15.0</td><td>48.0</td></tr><tr><th>16</th><td>16.0</td><td>43.0</td></tr><tr><th>17</th><td>17.0</td><td>47.0</td></tr><tr><th>18</th><td>18.0</td><td>55.0</td></tr><tr><th>19</th><td>19.0</td><td>52.0</td></tr><tr><th>20</th><td>20.0</td><td>52.0</td></tr><tr><th>21</th><td>21.0</td><td>44.0</td></tr><tr><th>22</th><td>22.0</td><td>47.0</td></tr><tr><th>23</th><td>23.0</td><td>57.0</td></tr><tr><th>24</th><td>24.0</td><td>45.0</td></tr><tr><th>25</th><td>25.0</td><td>48.0</td></tr><tr><th>26</th><td>26.0</td><td>55.0</td></tr><tr><th>27</th><td>27.0</td><td>50.0</td></tr><tr><th>28</th><td>28.0</td><td>42.0</td></tr><tr><th>29</th><td>29.0</td><td>50.0</td></tr><tr><th>30</th><td>30.0</td><td>57.0</td></tr><tr><th>&vellip;</th><td>&vellip;</td><td>&vellip;</td></tr></tbody></table>"
      ],
      "text/plain": [
       "50×2 DataFrames.DataFrame\n",
       "│ Row │ semana │ demanda │\n",
       "├─────┼────────┼─────────┤\n",
       "│ 1   │ 1.0    │ 56.0    │\n",
       "│ 2   │ 2.0    │ 46.0    │\n",
       "│ 3   │ 3.0    │ 53.0    │\n",
       "│ 4   │ 4.0    │ 50.0    │\n",
       "│ 5   │ 5.0    │ 50.0    │\n",
       "│ 6   │ 6.0    │ 52.0    │\n",
       "│ 7   │ 7.0    │ 46.0    │\n",
       "│ 8   │ 8.0    │ 53.0    │\n",
       "│ 9   │ 9.0    │ 55.0    │\n",
       "│ 10  │ 10.0   │ 46.0    │\n",
       "│ 11  │ 11.0   │ 53.0    │\n",
       "⋮\n",
       "│ 39  │ 39.0   │ 52.0    │\n",
       "│ 40  │ 40.0   │ 48.0    │\n",
       "│ 41  │ 41.0   │ 47.0    │\n",
       "│ 42  │ 42.0   │ 48.0    │\n",
       "│ 43  │ 43.0   │ 44.0    │\n",
       "│ 44  │ 44.0   │ 43.0    │\n",
       "│ 45  │ 45.0   │ 50.0    │\n",
       "│ 46  │ 46.0   │ 57.0    │\n",
       "│ 47  │ 47.0   │ 46.0    │\n",
       "│ 48  │ 48.0   │ 44.0    │\n",
       "│ 49  │ 49.0   │ 52.0    │\n",
       "│ 50  │ 50.0   │ 58.0    │"
      ]
     },
     "execution_count": 94,
     "metadata": {},
     "output_type": "execute_result"
    }
   ],
   "source": [
    "mycsv"
   ]
  }
 ],
 "metadata": {
  "kernelspec": {
   "display_name": "Julia 0.6.2",
   "language": "julia",
   "name": "julia-0.6"
  },
  "language_info": {
   "file_extension": ".jl",
   "mimetype": "application/julia",
   "name": "julia",
   "version": "0.6.2"
  }
 },
 "nbformat": 4,
 "nbformat_minor": 2
}
